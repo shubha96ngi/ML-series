{
 "cells": [
  {
   "cell_type": "code",
   "execution_count": null,
   "id": "3be5d311-46c7-427f-a322-c8a1031fdf09",
   "metadata": {},
   "outputs": [],
   "source": [
    "import pandas as pd\n",
    "import numpy as np\n",
    "import matplotlib.pyplot as plt\n",
    "\n",
    "data = pd.read_csv('/Users/shubhangi_goyal/Downloads/digit-recognizer/train.csv')\n",
    "\n",
    "# print(data.head())\n",
    "\n",
    "label = data['label']"
   ]
  },
  {
   "cell_type": "code",
   "execution_count": null,
   "id": "d57e6ec6-3a88-496f-bc89-c8b78622b96d",
   "metadata": {},
   "outputs": [],
   "source": [
    "data = np.array(data)\n",
    "m, n = data.shape\n",
    "np.random.shuffle(data) # shuffle before splitting into dev and training sets\n",
    "\n",
    "data_dev = data[0:1000].T\n",
    "Y_dev = data_dev[0]\n",
    "X_dev = data_dev[1:n]\n",
    "X_dev = X_dev / 255.\n",
    "\n",
    "data_train = data[1000:m].T\n",
    "Y_train = data_train[0]\n",
    "X_train = data_train[1:n]\n",
    "X_train = X_train / 255.\n",
    "_,m_train = X_train.shape"
   ]
  },
  {
   "cell_type": "code",
   "execution_count": null,
   "id": "c29b9ba6-da9d-4804-98e0-f7a0f03ca807",
   "metadata": {},
   "outputs": [],
   "source": [
    "# data = np.array(data)\n",
    "\n",
    "# m,n  = data.shape\n",
    "# test = data[0:1000].T\n",
    "# train = data[1000:m].T "
   ]
  },
  {
   "cell_type": "code",
   "execution_count": null,
   "id": "5c7d7b54-24a3-4c03-8810-35302f99e5da",
   "metadata": {},
   "outputs": [],
   "source": [
    "# y_test, x_test, x_train, y_train = test[0], test[1:n], train[1:n], train[0]\n",
    "# x_train = x_train/255.\n"
   ]
  },
  {
   "cell_type": "code",
   "execution_count": null,
   "id": "efb149d1-ee09-4cb4-a103-a88ddd0a502e",
   "metadata": {},
   "outputs": [],
   "source": [
    "# x_test.shape, y_test.shape, x_train.shape, y_train.shape"
   ]
  },
  {
   "cell_type": "code",
   "execution_count": null,
   "id": "34ca1529-9951-4a4e-a841-b4eacceb8ae8",
   "metadata": {},
   "outputs": [],
   "source": [
    "def ReLu(x):\n",
    "    # if x<0:\n",
    "    #     return 0\n",
    "    # else:\n",
    "    #     return x\n",
    "    return np.maximum(x,0)\n",
    "def Relu_derivative(x):\n",
    "    return x>0\n",
    "\n",
    "\n",
    "num_in = 784\n",
    "num_hid = 10\n",
    "num_out = 10"
   ]
  },
  {
   "cell_type": "code",
   "execution_count": null,
   "id": "c816988f-bb8a-427e-8afe-b763f78cb19a",
   "metadata": {},
   "outputs": [],
   "source": [
    "# def init():\n",
    "# w1 = np.random.randn(num_hid, num_in) -0.5\n",
    "# b1 =  np.random.randn(num_hid, 1)-0.5\n",
    "\n",
    "# w2 = np.random.randn(num_out, num_hid) -0.5\n",
    "# b2  = np.random.randn(num_out, 1)-0.5\n",
    "\n",
    "m, X_train.shape[1]"
   ]
  },
  {
   "cell_type": "code",
   "execution_count": null,
   "id": "9f3b7d5c-f46e-470a-bf41-0c7c7d701edf",
   "metadata": {},
   "outputs": [],
   "source": []
  },
  {
   "cell_type": "code",
   "execution_count": null,
   "id": "0ee62778-ff91-492f-84bd-9a0c2fe75098",
   "metadata": {},
   "outputs": [],
   "source": [
    "  # return w1, b1, w2, b2\n",
    "def forward(x,w,b):\n",
    "\n",
    "    # print(x, type(x))\n",
    "    # print(x.shape, w.shape, type(x) , type(w))\n",
    "    # print(np.dot(w,x))\n",
    "    # print(w@x)\n",
    "    # out = ReLu(w@x + b) # ReLu(np.dot(w,x) + b)\n",
    "    A = w.dot(x) + b\n",
    "    out = ReLu(A) #w.dot(x) + b) # ReLu(np.dot(w,x) + b)\n",
    "   \n",
    "    return A, out\n",
    "\n",
    "\n",
    "def loss(out, label):\n",
    "    error = out - label\n",
    "    return error\n",
    "\n",
    "\n",
    "def update(lr,w1, b1, w2, b2 , dw1, db1,dw2, db2):\n",
    "     w1 += -lr * dw1\n",
    "     b1 += -lr * db1\n",
    "     w2 += -lr * dw2\n",
    "     b2 += -lr * db2\n",
    "\n",
    "     return w1,b1,w2,b2\n",
    "\n",
    "# def backward(x,x1, error,w2):\n",
    "def backward(x,q1, x1, error,w2):\n",
    "    # m = X_train.shape[1]\n",
    "    # error from output to hidden\n",
    "    dw2 = error @ x1.T/m\n",
    "    # dw2 = (error.dot( x1.T))/m\n",
    "          # 10xm     mx 10\n",
    "    db2 =  np.sum(error)/m\n",
    "    # error from hidden to input\n",
    "    # print(w2.shape, error.shape, Relu_derivative(x1).shape)\n",
    "    # error2 = (w2.T  @ error) * Relu_derivative(x1)# (error @ Relu_derivative(x1).T)\n",
    "    error2 = (w2.T.dot(error) * Relu_derivative(q1)) #)\n",
    "            # 10 x 10 , 10 x m  x 10 x m\n",
    "    # print(error2.shape)\n",
    "    dw1 = error2  @ x.T/m\n",
    "    # dw1 = error2.dot(x.T)/m#  @ x.T/m\n",
    "    # 10  x784  = 10 xm x mx 784\n",
    "    db1 = np.sum(error2)/m\n",
    "\n",
    "    # def forward_prop(W1, b1, W2, b2, X):\n",
    "    # Z1 = W1.dot(X) + b1\n",
    "    # A1 = ReLU(Z1)\n",
    "    # Z2 = W2.dot(A1) + b2\n",
    "    # A2 = softmax(Z2)\n",
    "    # return Z1, A1, Z2, A2\n",
    "\n",
    "\n",
    "    # dw2 = 1 / m * error.dot(x1.T)\n",
    "    # db2 = 1 / m * np.sum(error)\n",
    "    # error2 = w2.T.dot(error) * ReLU_deriv(q1)\n",
    "    # dw1 = 1 / m * error2.dot(x.T)\n",
    "    # db1 = 1 / m * np.sum(error2)\n",
    "\n",
    "    #  dW2 = 1 / m * dZ2.dot(A1.T)\n",
    "    # db2 = 1 / m * np.sum(dZ2)\n",
    "    # dZ1 = W2.T.dot(dZ2) * ReLU_deriv(Z1)\n",
    "    # dW1 = 1 / m * dZ1.dot(X.T)\n",
    "    # db1 = 1 / m * np.sum(dZ1)\n",
    "\n",
    "\n",
    "    return dw1, db1, dw2, db2\n",
    "\n",
    "\n",
    "def get_predictions(out):\n",
    "    return np.argmax(out, 0)\n",
    "\n",
    "\n",
    "def get_accuracy(predictions, Y):\n",
    "    print(predictions, Y)\n",
    "    return np.sum(predictions == Y) / Y.size\n"
   ]
  },
  {
   "cell_type": "code",
   "execution_count": null,
   "id": "360b0d01-59ae-480e-b75e-c1d67295bdd8",
   "metadata": {},
   "outputs": [],
   "source": [
    "def softmax(x):\n",
    "    return np.exp(x) / sum(np.exp(x)) #np.exp(x)/np.sum(np.exp(x))"
   ]
  },
  {
   "cell_type": "code",
   "execution_count": null,
   "id": "9cf6d337-6698-47cb-84a2-80edce63e049",
   "metadata": {},
   "outputs": [],
   "source": [
    "x = X_train"
   ]
  },
  {
   "cell_type": "code",
   "execution_count": null,
   "id": "c40de42a-56e5-4ae7-8da7-99bbabce043c",
   "metadata": {},
   "outputs": [],
   "source": [
    "def one_hot_code(y_train):\n",
    "    arr = np.zeros((10,41000))\n",
    "    for i in range(41000):\n",
    "        arr[y_train[i],i] = 1\n",
    "    return arr \n"
   ]
  },
  {
   "cell_type": "code",
   "execution_count": null,
   "id": "77ca379a-f8d5-49d1-8527-3e13f574e4bb",
   "metadata": {},
   "outputs": [],
   "source": [
    "one_hot_code(y_train)[:,1], y_train[1]"
   ]
  },
  {
   "cell_type": "code",
   "execution_count": null,
   "id": "0d3b8088-233d-4905-965f-71d89260ef37",
   "metadata": {},
   "outputs": [],
   "source": [
    "lr = 0.1 \n",
    "for i in range(500):\n",
    "    q1, x1 = forward(x,w1,b1)\n",
    "    q2, x2 = forward(x1,w2,b2)\n",
    "    out = softmax(x2)\n",
    "    # print(x1)\n",
    "    # error = loss(out,one_hot(Y_train)) \n",
    "    error = loss(out,one_hot_code(Y_train))\n",
    "    dw1, db1, dw2, db2 = backward(x,q1,x1,error, w2)\n",
    "    w1,b1,w2,b2 = update(lr,w1, b1, w2, b2,dw1,db1, dw2, db2)\n",
    "    if i % 10 == 0:\n",
    "        print(\"Iteration: \", i)\n",
    "        predictions = get_predictions(out)\n",
    "        print(get_accuracy(predictions, Y_train))\n",
    "\n"
   ]
  },
  {
   "cell_type": "markdown",
   "id": "78097531-327d-4dfb-98a1-7f0833b16280",
   "metadata": {},
   "source": [
    "# his code "
   ]
  },
  {
   "cell_type": "code",
   "execution_count": null,
   "id": "527ab7dc-5f10-4f80-a223-d7de82b23f46",
   "metadata": {},
   "outputs": [],
   "source": [
    "def init_params():\n",
    "    W1 = np.random.rand(10, 784) - 0.5\n",
    "    b1 = np.random.rand(10, 1) - 0.5\n",
    "    W2 = np.random.rand(10, 10) - 0.5\n",
    "    b2 = np.random.rand(10, 1) - 0.5\n",
    "    return W1, b1, W2, b2\n",
    "\n",
    "w1,b1,w2,b2 = init_params()"
   ]
  },
  {
   "cell_type": "code",
   "execution_count": null,
   "id": "d62275e2-d87c-4d05-a895-9c7ccf365558",
   "metadata": {},
   "outputs": [],
   "source": []
  },
  {
   "cell_type": "code",
   "execution_count": null,
   "id": "0252f068-210b-4f2e-a102-e6ad713ebee0",
   "metadata": {},
   "outputs": [],
   "source": []
  },
  {
   "cell_type": "code",
   "execution_count": null,
   "id": "2c2b17dd-c868-45b4-bfa4-61979db843ee",
   "metadata": {},
   "outputs": [],
   "source": []
  },
  {
   "cell_type": "code",
   "execution_count": null,
   "id": "b9cb8008-4b72-44d6-b8a2-9d5a29f5b6db",
   "metadata": {},
   "outputs": [],
   "source": [
    "def forward_prop(W1, b1, W2, b2, X):\n",
    "    Z1 = W1.dot(X) + b1\n",
    "    A1 = ReLU(Z1)\n",
    "    Z2 = W2.dot(A1) + b2\n",
    "    A2 = softmax(Z2)\n",
    "    return Z1, A1, Z2, A2"
   ]
  },
  {
   "cell_type": "code",
   "execution_count": null,
   "id": "b98ff8ee-eb0d-4225-af9a-0dcd447f7e6b",
   "metadata": {},
   "outputs": [],
   "source": [
    "def ReLU(Z):\n",
    "    return np.maximum(Z, 0)\n",
    "\n",
    "def softmax(Z):\n",
    "    return np.exp(Z) / sum(np.exp(Z))\n"
   ]
  },
  {
   "cell_type": "code",
   "execution_count": null,
   "id": "e21fd412-77d0-4b22-a004-3db2f433f76d",
   "metadata": {},
   "outputs": [],
   "source": []
  },
  {
   "cell_type": "code",
   "execution_count": null,
   "id": "b4df4dde-7ee1-46c5-9137-9f4e3f16f7db",
   "metadata": {},
   "outputs": [],
   "source": [
    "w1"
   ]
  },
  {
   "cell_type": "code",
   "execution_count": null,
   "id": "c4919cc6-9178-4741-affc-37e2668eb37a",
   "metadata": {},
   "outputs": [],
   "source": [
    "def backward_prop(Z1, A1, Z2, A2, W1, W2, X, Y):\n",
    "    one_hot_Y = one_hot(Y)\n",
    "    dZ2 = A2 - one_hot_Y\n",
    "    dW2 = 1 / m * dZ2.dot(A1.T)\n",
    "    db2 = 1 / m * np.sum(dZ2)\n",
    "    dZ1 = W2.T.dot(dZ2) * ReLU_deriv(Z1)\n",
    "    dW1 = 1 / m * dZ1.dot(X.T)\n",
    "    db1 = 1 / m * np.sum(dZ1)\n",
    "    return dW1, db1, dW2, db2\n"
   ]
  },
  {
   "cell_type": "code",
   "execution_count": null,
   "id": "a9262c53-8090-404b-9377-503f9e9446aa",
   "metadata": {},
   "outputs": [],
   "source": [
    "def ReLU_deriv(Z):\n",
    "    return Z > 0\n",
    "\n",
    "def one_hot(Y):\n",
    "    one_hot_Y = np.zeros((Y.size, Y.max() + 1))\n",
    "    one_hot_Y[np.arange(Y.size), Y] = 1\n",
    "    one_hot_Y = one_hot_Y.T\n",
    "    return one_hot_Y"
   ]
  },
  {
   "cell_type": "code",
   "execution_count": null,
   "id": "e9eaea31-484f-46a8-8957-f6c0c3a14a66",
   "metadata": {},
   "outputs": [],
   "source": []
  },
  {
   "cell_type": "code",
   "execution_count": null,
   "id": "47c96263-dd20-4546-94b3-cd8ced3c498b",
   "metadata": {},
   "outputs": [],
   "source": [
    "def update_params(W1, b1, W2, b2, dW1, db1, dW2, db2, alpha):\n",
    "    W1 = W1 - alpha * dW1\n",
    "    b1 = b1 - alpha * db1    \n",
    "    W2 = W2 - alpha * dW2  \n",
    "    b2 = b2 - alpha * db2    \n",
    "    return W1, b1, W2, b2\n"
   ]
  },
  {
   "cell_type": "code",
   "execution_count": null,
   "id": "258fdf1a-de25-473a-a973-6d633cc7d787",
   "metadata": {},
   "outputs": [],
   "source": [
    "def get_predictions(A2):\n",
    "    return np.argmax(A2, 0)\n",
    "\n",
    "def get_accuracy(predictions, Y):\n",
    "    print(predictions, Y)\n",
    "    return np.sum(predictions == Y) / Y.size\n",
    "\n",
    "def gradient_descent(X, Y, alpha, iterations):\n",
    "    W1, b1, W2, b2 = init_params()\n",
    "    for i in range(iterations):\n",
    "        Z1, A1, Z2, A2 = forward_prop(W1, b1, W2, b2, X)\n",
    "        # print('a2=', A2)\n",
    "        dW1, db1, dW2, db2 = backward_prop(Z1, A1, Z2, A2, W1, W2, X, Y)\n",
    "        W1, b1, W2, b2 = update_params(W1, b1, W2, b2, dW1, db1, dW2, db2, alpha)\n",
    "        if i % 10 == 0:\n",
    "            print(\"Iteration: \", i)\n",
    "            predictions = get_predictions(A2)\n",
    "            print(get_accuracy(predictions, Y))\n",
    "    return W1, b1, W2, b2,A2"
   ]
  },
  {
   "cell_type": "code",
   "execution_count": null,
   "id": "e65adc1a-9b0d-406f-8a35-2b164f91783e",
   "metadata": {},
   "outputs": [],
   "source": []
  },
  {
   "cell_type": "code",
   "execution_count": null,
   "id": "20f5a84e-83f1-44df-a817-da2f16a66498",
   "metadata": {},
   "outputs": [],
   "source": [
    "W1, b1, W2, b2,A2 = gradient_descent(X_train, Y_train, 0.10, 20) #500)\n"
   ]
  },
  {
   "cell_type": "code",
   "execution_count": null,
   "id": "6c8eb4b5-7140-421a-8f71-fa8cd0c7fc9e",
   "metadata": {},
   "outputs": [],
   "source": []
  },
  {
   "cell_type": "code",
   "execution_count": null,
   "id": "754f7bff-a21a-493f-8ce4-c5aba75d2eb6",
   "metadata": {},
   "outputs": [],
   "source": []
  },
  {
   "cell_type": "code",
   "execution_count": null,
   "id": "16f48f78-31a3-4725-acc4-4e05434d3c12",
   "metadata": {},
   "outputs": [],
   "source": [
    "x1 = forward(x,w1,b1)\n",
    "x2 = forward(x1,w2,b2)\n",
    "out = softmax(x2)\n",
    "# print(x1)\n",
    "error = loss(out,one_hot(y_train)) #one_hot_code(y_train))\n",
    "dw1, db1, dw2, db2 = backward(x,x1,error, w2)\n",
    "w1,b1,w2,b2 = update(lr,w1, b1, w2, b2,dw1,db1, dw2, db2)\n",
    "print(\"Iteration: \", i)\n",
    "predictions = get_predictions(out)\n",
    "print(get_accuracy(predictions, y_train))\n"
   ]
  },
  {
   "cell_type": "code",
   "execution_count": null,
   "id": "d31afa25-242b-404d-a71f-ce63c871c726",
   "metadata": {},
   "outputs": [],
   "source": [
    "np.where(A2 == out)"
   ]
  },
  {
   "cell_type": "code",
   "execution_count": null,
   "id": "147e43f8-9a1f-425b-b98b-3dc1841e00d8",
   "metadata": {},
   "outputs": [],
   "source": []
  }
 ],
 "metadata": {
  "kernelspec": {
   "display_name": "Python 3 (ipykernel)",
   "language": "python",
   "name": "python3"
  },
  "language_info": {
   "codemirror_mode": {
    "name": "ipython",
    "version": 3
   },
   "file_extension": ".py",
   "mimetype": "text/x-python",
   "name": "python",
   "nbconvert_exporter": "python",
   "pygments_lexer": "ipython3",
   "version": "3.10.14"
  }
 },
 "nbformat": 4,
 "nbformat_minor": 5
}
